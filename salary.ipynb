{
 "cells": [
  {
   "cell_type": "code",
   "execution_count": 15,
   "id": "06a7554a",
   "metadata": {},
   "outputs": [
    {
     "name": "stdout",
     "output_type": "stream",
     "text": [
      "  second_name     name          job  salary  time  bonus_sum  final_salary\n",
      "0      Иванов     Иван     Менеджер    5000     6      750.0        5750.0\n",
      "1      Петров     Петр  Разработчик    7000     4      840.0        7840.0\n",
      "2     Сидоров  Алексей           HR    5500     7      825.0        6325.0\n",
      "full salary 19915.0\n"
     ]
    }
   ],
   "source": [
    "import pandas as pd\n",
    "\n",
    "data = {\n",
    "    'second_name': ['Иванов', 'Петров', 'Сидоров'],\n",
    "    'name':        ['Иван', 'Петр', 'Алексей'],\n",
    "    'job':         ['Менеджер', 'Разработчик', 'HR'],\n",
    "    'salary':      [5000, 7000, 5500],\n",
    "    'time':        [6, 4, 7]\n",
    "}\n",
    "\n",
    "df = pd.DataFrame(data)\n",
    "\n",
    "\n",
    "def calculate_bonus(hours):\n",
    "    if hours >= 5:\n",
    "        return 0.15\n",
    "    elif hours >= 3:\n",
    "        return 0.12\n",
    "    else:\n",
    "        return 0\n",
    "\n",
    "bonus_mult = df['time'].apply(calculate_bonus)\n",
    "\n",
    "df['bonus_sum'] = df['salary'] * bonus_mult\n",
    "df['final_salary'] = df['salary'] + df['bonus_sum']\n",
    "\n",
    "# df = df.drop('salary', axis=1)\n",
    "\n",
    "print(df)\n",
    "\n",
    "print(\"full salary\", df[\"final_salary\"].sum())"
   ]
  },
  {
   "cell_type": "code",
   "execution_count": null,
   "id": "d795cdf6",
   "metadata": {},
   "outputs": [],
   "source": []
  }
 ],
 "metadata": {
  "kernelspec": {
   "display_name": "Python 3 (ipykernel)",
   "language": "python",
   "name": "python3"
  },
  "language_info": {
   "codemirror_mode": {
    "name": "ipython",
    "version": 3
   },
   "file_extension": ".py",
   "mimetype": "text/x-python",
   "name": "python",
   "nbconvert_exporter": "python",
   "pygments_lexer": "ipython3",
   "version": "3.9.1"
  },
  "vscode": {
   "interpreter": {
    "hash": "02153a0fa265e74e2b7312e7780155e283bc834b2d3c8bee20ee137d26106a53"
   }
  }
 },
 "nbformat": 4,
 "nbformat_minor": 5
}
